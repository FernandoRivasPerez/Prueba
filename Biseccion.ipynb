{
  "nbformat": 4,
  "nbformat_minor": 0,
  "metadata": {
    "colab": {
      "name": "Biseccion.ipynb",
      "provenance": [],
      "collapsed_sections": []
    },
    "kernelspec": {
      "name": "python3",
      "display_name": "Python 3"
    },
    "language_info": {
      "name": "python"
    }
  },
  "cells": [
    {
      "cell_type": "code",
      "metadata": {
        "id": "MIqZU4m92WKO"
      },
      "source": [
        "from math import *\n",
        "\n",
        "def f(x):\n",
        "    return pow(x,3)+x-1\n",
        "\n",
        "def biseccion(a, b, tol):\n",
        "    m1 = a\n",
        "    m = b\n",
        "    k = 0\n",
        "    contador = 0\n",
        "    if f(a)*f(b) > 0:\n",
        "        print(\"¡La función no cambia de signo!\")\n",
        "    \n",
        "    while abs(m1-m) > tol:\n",
        "        m1 = m\n",
        "        m = (a+b)/2\n",
        "        if f(a)*f(m) < 0:\n",
        "            b = m\n",
        "        if f(m)*f(b) < 0:\n",
        "            a = m\n",
        "        contador = contador + 1\n",
        "        print(f\"El intervalo de la iteración {contador} es [{a}, {b}]\")\n",
        "        k = k + 1\n",
        "        #contador = contador + 1\n",
        "    print(f\"x{k} = {m} es una buena aproximación\")"
      ],
      "execution_count": null,
      "outputs": []
    },
    {
      "cell_type": "code",
      "metadata": {
        "colab": {
          "base_uri": "https://localhost:8080/"
        },
        "id": "EHBvyzM95XTU",
        "outputId": "357176a0-529d-438b-d580-b685cec987f7"
      },
      "source": [
        "biseccion(0, 1, 10**(-6))"
      ],
      "execution_count": null,
      "outputs": [
        {
          "output_type": "stream",
          "name": "stdout",
          "text": [
            "El intervalo de la iteración 1 es [0.5, 1]\n",
            "El intervalo de la iteración 2 es [0.5, 0.75]\n",
            "El intervalo de la iteración 3 es [0.625, 0.75]\n",
            "El intervalo de la iteración 4 es [0.625, 0.6875]\n",
            "El intervalo de la iteración 5 es [0.65625, 0.6875]\n",
            "El intervalo de la iteración 6 es [0.671875, 0.6875]\n",
            "El intervalo de la iteración 7 es [0.6796875, 0.6875]\n",
            "El intervalo de la iteración 8 es [0.6796875, 0.68359375]\n",
            "El intervalo de la iteración 9 es [0.681640625, 0.68359375]\n",
            "El intervalo de la iteración 10 es [0.681640625, 0.6826171875]\n",
            "El intervalo de la iteración 11 es [0.68212890625, 0.6826171875]\n",
            "El intervalo de la iteración 12 es [0.68212890625, 0.682373046875]\n",
            "El intervalo de la iteración 13 es [0.6822509765625, 0.682373046875]\n",
            "El intervalo de la iteración 14 es [0.68231201171875, 0.682373046875]\n",
            "El intervalo de la iteración 15 es [0.68231201171875, 0.682342529296875]\n",
            "El intervalo de la iteración 16 es [0.6823272705078125, 0.682342529296875]\n",
            "El intervalo de la iteración 17 es [0.6823272705078125, 0.6823348999023438]\n",
            "El intervalo de la iteración 18 es [0.6823272705078125, 0.6823310852050781]\n",
            "El intervalo de la iteración 19 es [0.6823272705078125, 0.6823291778564453]\n",
            "El intervalo de la iteración 20 es [0.6823272705078125, 0.6823282241821289]\n",
            "x20 = 0.6823282241821289 es una buena aproximación\n"
          ]
        }
      ]
    },
    {
      "cell_type": "code",
      "metadata": {
        "id": "osIX1bW__HDz"
      },
      "source": [
        "from math import *\n",
        "\n",
        "def g(x):\n",
        "    return 3/(x-2)\n",
        "\n",
        "def PuntoFijo(x0, n, tol):\n",
        "    for k in range(n):\n",
        "        x1 = g(x0)\n",
        "        i = x0\n",
        "        if abs(x1-x0) < tol:\n",
        "            print(f\"x{k} = {i} --> f(x{k}) = {x1} es un punto fijo\")\n",
        "            return\n",
        "        #i = x0\n",
        "        x0 = x1\n",
        "        print(f\"x{k} = {i} --> f(x{k}) = {x1}\")\n",
        "\n",
        "    \n"
      ],
      "execution_count": null,
      "outputs": []
    },
    {
      "cell_type": "code",
      "metadata": {
        "colab": {
          "base_uri": "https://localhost:8080/"
        },
        "id": "v676MgNWK2Bs",
        "outputId": "5b5e18f2-fa4a-438e-8cde-511ac8c192be"
      },
      "source": [
        "PuntoFijo(4,50,10**(-4))"
      ],
      "execution_count": null,
      "outputs": [
        {
          "output_type": "stream",
          "name": "stdout",
          "text": [
            "x0 = 4 --> f(x0) = 1.5\n",
            "x1 = 1.5 --> f(x1) = -6.0\n",
            "x2 = -6.0 --> f(x2) = -0.375\n",
            "x3 = -0.375 --> f(x3) = -1.263157894736842\n",
            "x4 = -1.263157894736842 --> f(x4) = -0.9193548387096775\n",
            "x5 = -0.9193548387096775 --> f(x5) = -1.0276243093922652\n",
            "x6 = -1.0276243093922652 --> f(x6) = -0.9908759124087592\n",
            "x7 = -0.9908759124087592 --> f(x7) = -1.0030506406345332\n",
            "x8 = -1.0030506406345332 --> f(x8) = -0.9989841527834215\n",
            "x9 = -0.9989841527834215 --> f(x9) = -1.0003387304383171\n",
            "x10 = -1.0003387304383171 --> f(x10) = -0.9998871026011561\n",
            "x11 = -0.9998871026011561 --> f(x11) = -1.000037633882537\n",
            "x12 = -1.000037633882537 --> f(x12) = -0.9999874555298534 es un punto fijo\n"
          ]
        }
      ]
    }
  ]
}